{
 "cells": [
  {
   "cell_type": "code",
   "execution_count": 10,
   "metadata": {},
   "outputs": [
    {
     "name": "stderr",
     "output_type": "stream",
     "text": [
      "/Users/sugiyamatakashikana/.pyenv/versions/3.7.3/lib/python3.7/site-packages/ipykernel_launcher.py:29: MatplotlibDeprecationWarning: Adding an axes using the same arguments as a previous axes currently reuses the earlier instance.  In a future version, a new instance will always be created and returned.  Meanwhile, this warning can be suppressed, and the future behavior ensured, by passing a unique label to each axes instance.\n"
     ]
    },
    {
     "data": {
      "image/png": "[encoded data removed]",
      "text/plain": [
       "<Figure size 432x288 with 1 Axes>"
      ]
     },
     "metadata": {
      "needs_background": "light"
     },
     "output_type": "display_data"
    }
   ],
   "source": [
    "import numpy as np\n",
    "import matplotlib.pyplot as plt\n",
    "\n",
    "#矢印を描画する関数\n",
    "def arrow(start, size, color):\n",
    "    plt.quiver(start[0],start[1],size[0],size[1], angles =\"xy\", scale_units = \"xy\", color = \"red\",scale = 1)\n",
    "\n",
    "#矢印の支点\n",
    "s = np.array([0,0])\n",
    "\n",
    "#ベクトル\n",
    "a = np.array([2,3])\n",
    "\n",
    "A = np.array([\n",
    "    [2,-1],\n",
    "    [2,-2]\n",
    "])\n",
    "\n",
    "b = np.dot(A,a)\n",
    "\n",
    "arrow(s,a, color = \"red\")\n",
    "arrow(s,b, color = \"red\")\n",
    "\n",
    "#グラフ表示\n",
    "plt.xlim([-3,3])\n",
    "plt.ylim([-3,3])\n",
    "plt.grid()\n",
    "#縦横比を同じにする\n",
    "plt.axes().set_aspect('equal')\n",
    "plt.show()"
   ]
  },
  {
   "cell_type": "markdown",
   "metadata": {},
   "source": [
    "## 標準基底"
   ]
  },
  {
   "cell_type": "code",
   "execution_count": 12,
   "metadata": {},
   "outputs": [
    {
     "name": "stderr",
     "output_type": "stream",
     "text": [
      "/Users/sugiyamatakashikana/.pyenv/versions/3.7.3/lib/python3.7/site-packages/ipykernel_launcher.py:26: MatplotlibDeprecationWarning: Adding an axes using the same arguments as a previous axes currently reuses the earlier instance.  In a future version, a new instance will always be created and returned.  Meanwhile, this warning can be suppressed, and the future behavior ensured, by passing a unique label to each axes instance.\n"
     ]
    },
    {
     "data": {
      "image/png": "[encoded data removed]",
      "text/plain": [
       "<Figure size 432x288 with 1 Axes>"
      ]
     },
     "metadata": {
      "needs_background": "light"
     },
     "output_type": "display_data"
    }
   ],
   "source": [
    "import numpy as np\n",
    "import matplotlib.pyplot as plt\n",
    "\n",
    "#矢印を描画する関数\n",
    "def arrow(start, size, color):\n",
    "    plt.quiver(start[0],start[1],size[0],size[1], angles =\"xy\", scale_units = \"xy\",scale = 1)\n",
    "\n",
    "#矢印の支点\n",
    "s = np.array([0,0])\n",
    "\n",
    "a = np.array([2,3])\n",
    "\n",
    "e_x = np.array([1,0])\n",
    "e_y = np.array([0,1])\n",
    "\n",
    "arrow(s,a,color = \"red\")\n",
    "arrow(s,e_x,color = \"black\")\n",
    "arrow(s,e_y,color = \"black\")\n",
    "\n",
    "\n",
    "#グラフ表示\n",
    "plt.xlim([-3,3])\n",
    "plt.ylim([-3,3])\n",
    "plt.grid()\n",
    "#縦横比を同じにする\n",
    "plt.axes().set_aspect('equal')\n",
    "plt.show()"
   ]
  }
 ],
 "metadata": {
  "kernelspec": {
   "display_name": "Python 3",
   "language": "python",
   "name": "python3"
  },
  "language_info": {
   "codemirror_mode": {
    "name": "ipython",
    "version": 3
   },
   "file_extension": ".py",
   "mimetype": "text/x-python",
   "name": "python",
   "nbconvert_exporter": "python",
   "pygments_lexer": "ipython3",
   "version": "3.7.3"
  }
 },
 "nbformat": 4,
 "nbformat_minor": 2
}
