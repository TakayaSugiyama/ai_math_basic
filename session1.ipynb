{
 "cells": [
  {
   "cell_type": "markdown",
   "metadata": {},
   "source": [
    "# Session1"
   ]
  },
  {
   "cell_type": "markdown",
   "metadata": {},
   "source": [
    "# 人工知能と数学"
   ]
  },
  {
   "cell_type": "markdown",
   "metadata": {},
   "source": [
    "## 人工知能、機械学習、ディープラーニング"
   ]
  },
  {
   "cell_type": "markdown",
   "metadata": {},
   "source": [
    "強いAI と　弱いAI\n",
    "- 強いAI\n",
    "    -  ドラえもん\n",
    "- 弱いAI \n",
    "    - チェスや将棋のAI"
   ]
  },
  {
   "cell_type": "markdown",
   "metadata": {},
   "source": [
    "人工知能の種類\n",
    "\n",
    "- 機械学習\n",
    "- 遺伝的アルゴリズム\n",
    "-  群知能"
   ]
  },
  {
   "cell_type": "markdown",
   "metadata": {},
   "source": [
    "機械学習のアルゴリズム\n",
    "\n",
    "-  強化学習\n",
    "-  決定木\n",
    "-  ニューラルネットワーク"
   ]
  },
  {
   "cell_type": "markdown",
   "metadata": {},
   "source": [
    "人工知能に必要な数学\n",
    "\n",
    "-  線形代数\n",
    "-  微分\n",
    "-  確率・統計"
   ]
  }
 ],
 "metadata": {
  "kernelspec": {
   "display_name": "Python 3",
   "language": "python",
   "name": "python3"
  },
  "language_info": {
   "codemirror_mode": {
    "name": "ipython",
    "version": 3
   },
   "file_extension": ".py",
   "mimetype": "text/x-python",
   "name": "python",
   "nbconvert_exporter": "python",
   "pygments_lexer": "ipython3",
   "version": "3.7.3"
  }
 },
 "nbformat": 4,
 "nbformat_minor": 2
}
